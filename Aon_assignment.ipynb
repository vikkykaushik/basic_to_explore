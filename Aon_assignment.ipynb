{
 "cells": [
  {
   "cell_type": "code",
   "execution_count": 1,
   "metadata": {},
   "outputs": [],
   "source": [
    "import pandas as pd\n",
    "import numpy as np\n",
    "import matplotlib.pyplot as plt\n",
    "%matplotlib inline\n",
    "import seaborn as sns\n",
    "pd.pandas.set_option('display.max_columns',None)\n",
    "\n",
    "dataset = pd.read_excel(\"Sample Assessment Data_AA Assignment.xlsx\")"
   ]
  },
  {
   "cell_type": "code",
   "execution_count": 2,
   "metadata": {},
   "outputs": [
    {
     "name": "stdout",
     "output_type": "stream",
     "text": [
      "(3924, 13)\n"
     ]
    },
    {
     "data": {
      "text/html": [
       "<div>\n",
       "<style scoped>\n",
       "    .dataframe tbody tr th:only-of-type {\n",
       "        vertical-align: middle;\n",
       "    }\n",
       "\n",
       "    .dataframe tbody tr th {\n",
       "        vertical-align: top;\n",
       "    }\n",
       "\n",
       "    .dataframe thead th {\n",
       "        text-align: right;\n",
       "    }\n",
       "</style>\n",
       "<table border=\"1\" class=\"dataframe\">\n",
       "  <thead>\n",
       "    <tr style=\"text-align: right;\">\n",
       "      <th></th>\n",
       "      <th>Candidate ID</th>\n",
       "      <th>Internship/ Full time</th>\n",
       "      <th>Campus</th>\n",
       "      <th>Gender</th>\n",
       "      <th>Time Taken</th>\n",
       "      <th>Assessment 1</th>\n",
       "      <th>Assessment 2</th>\n",
       "      <th>Assessment 3</th>\n",
       "      <th>Assessment 4</th>\n",
       "      <th>Total Score</th>\n",
       "      <th>Assessment Shortlisted</th>\n",
       "      <th>GD Shortlisted</th>\n",
       "      <th>PI Shortlisted / Offered</th>\n",
       "    </tr>\n",
       "  </thead>\n",
       "  <tbody>\n",
       "    <tr>\n",
       "      <th>0</th>\n",
       "      <td>13365775</td>\n",
       "      <td>Intern</td>\n",
       "      <td>C1</td>\n",
       "      <td>Male</td>\n",
       "      <td>00:29:58</td>\n",
       "      <td>6</td>\n",
       "      <td>7</td>\n",
       "      <td>8</td>\n",
       "      <td>9</td>\n",
       "      <td>9.0</td>\n",
       "      <td>N</td>\n",
       "      <td>N</td>\n",
       "      <td>N</td>\n",
       "    </tr>\n",
       "    <tr>\n",
       "      <th>1</th>\n",
       "      <td>13365840</td>\n",
       "      <td>Intern</td>\n",
       "      <td>C1</td>\n",
       "      <td>Male</td>\n",
       "      <td>00:29:56</td>\n",
       "      <td>8</td>\n",
       "      <td>9</td>\n",
       "      <td>7</td>\n",
       "      <td>8</td>\n",
       "      <td>9.0</td>\n",
       "      <td>N</td>\n",
       "      <td>N</td>\n",
       "      <td>N</td>\n",
       "    </tr>\n",
       "    <tr>\n",
       "      <th>2</th>\n",
       "      <td>13365846</td>\n",
       "      <td>Intern</td>\n",
       "      <td>C1</td>\n",
       "      <td>Male</td>\n",
       "      <td>00:28:02</td>\n",
       "      <td>9</td>\n",
       "      <td>9</td>\n",
       "      <td>7</td>\n",
       "      <td>9</td>\n",
       "      <td>9.0</td>\n",
       "      <td>N</td>\n",
       "      <td>N</td>\n",
       "      <td>N</td>\n",
       "    </tr>\n",
       "    <tr>\n",
       "      <th>3</th>\n",
       "      <td>13365865</td>\n",
       "      <td>Intern</td>\n",
       "      <td>C1</td>\n",
       "      <td>Male</td>\n",
       "      <td>00:29:56</td>\n",
       "      <td>8</td>\n",
       "      <td>6</td>\n",
       "      <td>9</td>\n",
       "      <td>9</td>\n",
       "      <td>9.0</td>\n",
       "      <td>N</td>\n",
       "      <td>N</td>\n",
       "      <td>N</td>\n",
       "    </tr>\n",
       "    <tr>\n",
       "      <th>4</th>\n",
       "      <td>13365999</td>\n",
       "      <td>Intern</td>\n",
       "      <td>C1</td>\n",
       "      <td>Male</td>\n",
       "      <td>00:29:56</td>\n",
       "      <td>7</td>\n",
       "      <td>9</td>\n",
       "      <td>7</td>\n",
       "      <td>9</td>\n",
       "      <td>9.0</td>\n",
       "      <td>N</td>\n",
       "      <td>N</td>\n",
       "      <td>N</td>\n",
       "    </tr>\n",
       "  </tbody>\n",
       "</table>\n",
       "</div>"
      ],
      "text/plain": [
       "   Candidate ID Internship/ Full time Campus Gender Time Taken  Assessment 1  \\\n",
       "0      13365775                Intern     C1   Male   00:29:58             6   \n",
       "1      13365840                Intern     C1   Male   00:29:56             8   \n",
       "2      13365846                Intern     C1   Male   00:28:02             9   \n",
       "3      13365865                Intern     C1   Male   00:29:56             8   \n",
       "4      13365999                Intern     C1   Male   00:29:56             7   \n",
       "\n",
       "   Assessment 2  Assessment 3  Assessment 4  Total Score  \\\n",
       "0             7             8             9          9.0   \n",
       "1             9             7             8          9.0   \n",
       "2             9             7             9          9.0   \n",
       "3             6             9             9          9.0   \n",
       "4             9             7             9          9.0   \n",
       "\n",
       "  Assessment Shortlisted GD Shortlisted PI Shortlisted / Offered  \n",
       "0                      N              N                        N  \n",
       "1                      N              N                        N  \n",
       "2                      N              N                        N  \n",
       "3                      N              N                        N  \n",
       "4                      N              N                        N  "
      ]
     },
     "execution_count": 2,
     "metadata": {},
     "output_type": "execute_result"
    }
   ],
   "source": [
    "print(dataset.shape)\n",
    "dataset.head()"
   ]
  },
  {
   "cell_type": "markdown",
   "metadata": {},
   "source": [
    "### Missing Values"
   ]
  },
  {
   "cell_type": "code",
   "execution_count": 3,
   "metadata": {},
   "outputs": [],
   "source": [
    "## Here we will check the percentage of nan values present in each feature\n",
    "## 1 -step make the list of features which has missing values\n",
    "features_with_na=[features for features in dataset.columns if dataset[features].isnull().sum()>1]\n",
    "## 2- step print the feature name and the percentage of missing values\n",
    "\n",
    "for feature in features_with_na:\n",
    "    print(feature, np.round(dataset[feature].isnull().mean(), 4),  ' % missing values')"
   ]
  },
  {
   "cell_type": "markdown",
   "metadata": {},
   "source": [
    "#### Since there is no missing value in the given dataeset we will analyze further\n",
    "---\n",
    "\n",
    "### Duplicate Values"
   ]
  },
  {
   "cell_type": "code",
   "execution_count": 4,
   "metadata": {},
   "outputs": [
    {
     "data": {
      "text/html": [
       "<div>\n",
       "<style scoped>\n",
       "    .dataframe tbody tr th:only-of-type {\n",
       "        vertical-align: middle;\n",
       "    }\n",
       "\n",
       "    .dataframe tbody tr th {\n",
       "        vertical-align: top;\n",
       "    }\n",
       "\n",
       "    .dataframe thead th {\n",
       "        text-align: right;\n",
       "    }\n",
       "</style>\n",
       "<table border=\"1\" class=\"dataframe\">\n",
       "  <thead>\n",
       "    <tr style=\"text-align: right;\">\n",
       "      <th></th>\n",
       "      <th>Candidate ID</th>\n",
       "      <th>Internship/ Full time</th>\n",
       "      <th>Campus</th>\n",
       "      <th>Gender</th>\n",
       "      <th>Time Taken</th>\n",
       "      <th>Assessment 1</th>\n",
       "      <th>Assessment 2</th>\n",
       "      <th>Assessment 3</th>\n",
       "      <th>Assessment 4</th>\n",
       "      <th>Total Score</th>\n",
       "      <th>Assessment Shortlisted</th>\n",
       "      <th>GD Shortlisted</th>\n",
       "      <th>PI Shortlisted / Offered</th>\n",
       "    </tr>\n",
       "  </thead>\n",
       "  <tbody>\n",
       "  </tbody>\n",
       "</table>\n",
       "</div>"
      ],
      "text/plain": [
       "Empty DataFrame\n",
       "Columns: [Candidate ID, Internship/ Full time, Campus, Gender, Time Taken, Assessment 1, Assessment 2, Assessment 3, Assessment 4, Total Score, Assessment Shortlisted, GD Shortlisted, PI Shortlisted / Offered]\n",
       "Index: []"
      ]
     },
     "execution_count": 4,
     "metadata": {},
     "output_type": "execute_result"
    }
   ],
   "source": [
    "duplicateRowsDF = dataset[dataset.duplicated(keep='last')]\n",
    "duplicateRowsDF"
   ]
  },
  {
   "cell_type": "markdown",
   "metadata": {},
   "source": [
    "#### No Duplicate row is there in the given dataset"
   ]
  },
  {
   "cell_type": "code",
   "execution_count": 5,
   "metadata": {},
   "outputs": [
    {
     "data": {
      "text/plain": [
       "Candidate ID                False\n",
       "Internship/ Full time       False\n",
       "Campus                      False\n",
       "Gender                      False\n",
       "Time Taken                  False\n",
       "Assessment 1                False\n",
       "Assessment 2                False\n",
       "Assessment 3                False\n",
       "Assessment 4                False\n",
       "Total Score                 False\n",
       "Assessment Shortlisted      False\n",
       "GD Shortlisted              False\n",
       "PI Shortlisted / Offered    False\n",
       "dtype: bool"
      ]
     },
     "execution_count": 5,
     "metadata": {},
     "output_type": "execute_result"
    }
   ],
   "source": [
    "dataset.isna().any()"
   ]
  },
  {
   "cell_type": "code",
   "execution_count": 21,
   "metadata": {},
   "outputs": [
    {
     "data": {
      "text/html": [
       "<div>\n",
       "<style scoped>\n",
       "    .dataframe tbody tr th:only-of-type {\n",
       "        vertical-align: middle;\n",
       "    }\n",
       "\n",
       "    .dataframe tbody tr th {\n",
       "        vertical-align: top;\n",
       "    }\n",
       "\n",
       "    .dataframe thead th {\n",
       "        text-align: right;\n",
       "    }\n",
       "</style>\n",
       "<table border=\"1\" class=\"dataframe\">\n",
       "  <thead>\n",
       "    <tr style=\"text-align: right;\">\n",
       "      <th></th>\n",
       "      <th>Candidate ID</th>\n",
       "      <th>Assessment 1</th>\n",
       "      <th>Assessment 2</th>\n",
       "      <th>Assessment 3</th>\n",
       "      <th>Assessment 4</th>\n",
       "      <th>Total Score</th>\n",
       "      <th>Assessment Shortlisted</th>\n",
       "      <th>GD Shortlisted</th>\n",
       "      <th>PI Shortlisted / Offered</th>\n",
       "    </tr>\n",
       "  </thead>\n",
       "  <tbody>\n",
       "    <tr>\n",
       "      <th>count</th>\n",
       "      <td>3.924000e+03</td>\n",
       "      <td>3924.000000</td>\n",
       "      <td>3924.000000</td>\n",
       "      <td>3924.000000</td>\n",
       "      <td>3924.000000</td>\n",
       "      <td>3924.000000</td>\n",
       "      <td>3924.000000</td>\n",
       "      <td>3924.000000</td>\n",
       "      <td>3924.000000</td>\n",
       "    </tr>\n",
       "    <tr>\n",
       "      <th>mean</th>\n",
       "      <td>1.390799e+07</td>\n",
       "      <td>6.297910</td>\n",
       "      <td>5.112895</td>\n",
       "      <td>5.992864</td>\n",
       "      <td>5.670999</td>\n",
       "      <td>6.026937</td>\n",
       "      <td>0.238532</td>\n",
       "      <td>0.083588</td>\n",
       "      <td>0.012997</td>\n",
       "    </tr>\n",
       "    <tr>\n",
       "      <th>std</th>\n",
       "      <td>5.081752e+05</td>\n",
       "      <td>2.427682</td>\n",
       "      <td>2.049165</td>\n",
       "      <td>2.039615</td>\n",
       "      <td>2.309710</td>\n",
       "      <td>2.155158</td>\n",
       "      <td>0.426240</td>\n",
       "      <td>0.276804</td>\n",
       "      <td>0.113275</td>\n",
       "    </tr>\n",
       "    <tr>\n",
       "      <th>min</th>\n",
       "      <td>1.336569e+07</td>\n",
       "      <td>1.000000</td>\n",
       "      <td>1.000000</td>\n",
       "      <td>1.000000</td>\n",
       "      <td>1.000000</td>\n",
       "      <td>1.000000</td>\n",
       "      <td>0.000000</td>\n",
       "      <td>0.000000</td>\n",
       "      <td>0.000000</td>\n",
       "    </tr>\n",
       "    <tr>\n",
       "      <th>25%</th>\n",
       "      <td>1.360415e+07</td>\n",
       "      <td>5.000000</td>\n",
       "      <td>4.000000</td>\n",
       "      <td>5.000000</td>\n",
       "      <td>4.000000</td>\n",
       "      <td>4.400000</td>\n",
       "      <td>0.000000</td>\n",
       "      <td>0.000000</td>\n",
       "      <td>0.000000</td>\n",
       "    </tr>\n",
       "    <tr>\n",
       "      <th>50%</th>\n",
       "      <td>1.374227e+07</td>\n",
       "      <td>7.000000</td>\n",
       "      <td>5.000000</td>\n",
       "      <td>6.000000</td>\n",
       "      <td>5.000000</td>\n",
       "      <td>6.000000</td>\n",
       "      <td>0.000000</td>\n",
       "      <td>0.000000</td>\n",
       "      <td>0.000000</td>\n",
       "    </tr>\n",
       "    <tr>\n",
       "      <th>75%</th>\n",
       "      <td>1.401752e+07</td>\n",
       "      <td>8.000000</td>\n",
       "      <td>6.000000</td>\n",
       "      <td>7.000000</td>\n",
       "      <td>8.000000</td>\n",
       "      <td>7.900000</td>\n",
       "      <td>0.000000</td>\n",
       "      <td>0.000000</td>\n",
       "      <td>0.000000</td>\n",
       "    </tr>\n",
       "    <tr>\n",
       "      <th>max</th>\n",
       "      <td>1.526105e+07</td>\n",
       "      <td>9.000000</td>\n",
       "      <td>9.000000</td>\n",
       "      <td>9.000000</td>\n",
       "      <td>9.000000</td>\n",
       "      <td>9.000000</td>\n",
       "      <td>1.000000</td>\n",
       "      <td>1.000000</td>\n",
       "      <td>1.000000</td>\n",
       "    </tr>\n",
       "  </tbody>\n",
       "</table>\n",
       "</div>"
      ],
      "text/plain": [
       "       Candidate ID  Assessment 1  Assessment 2  Assessment 3  Assessment 4  \\\n",
       "count  3.924000e+03   3924.000000   3924.000000   3924.000000   3924.000000   \n",
       "mean   1.390799e+07      6.297910      5.112895      5.992864      5.670999   \n",
       "std    5.081752e+05      2.427682      2.049165      2.039615      2.309710   \n",
       "min    1.336569e+07      1.000000      1.000000      1.000000      1.000000   \n",
       "25%    1.360415e+07      5.000000      4.000000      5.000000      4.000000   \n",
       "50%    1.374227e+07      7.000000      5.000000      6.000000      5.000000   \n",
       "75%    1.401752e+07      8.000000      6.000000      7.000000      8.000000   \n",
       "max    1.526105e+07      9.000000      9.000000      9.000000      9.000000   \n",
       "\n",
       "       Total Score  Assessment Shortlisted  GD Shortlisted  \\\n",
       "count  3924.000000             3924.000000     3924.000000   \n",
       "mean      6.026937                0.238532        0.083588   \n",
       "std       2.155158                0.426240        0.276804   \n",
       "min       1.000000                0.000000        0.000000   \n",
       "25%       4.400000                0.000000        0.000000   \n",
       "50%       6.000000                0.000000        0.000000   \n",
       "75%       7.900000                0.000000        0.000000   \n",
       "max       9.000000                1.000000        1.000000   \n",
       "\n",
       "       PI Shortlisted / Offered  \n",
       "count               3924.000000  \n",
       "mean                   0.012997  \n",
       "std                    0.113275  \n",
       "min                    0.000000  \n",
       "25%                    0.000000  \n",
       "50%                    0.000000  \n",
       "75%                    0.000000  \n",
       "max                    1.000000  "
      ]
     },
     "execution_count": 21,
     "metadata": {},
     "output_type": "execute_result"
    }
   ],
   "source": [
    "dataset.describe()"
   ]
  },
  {
   "cell_type": "markdown",
   "metadata": {},
   "source": [
    "## Catergorical Variables"
   ]
  },
  {
   "cell_type": "code",
   "execution_count": 7,
   "metadata": {},
   "outputs": [
    {
     "data": {
      "text/plain": [
       "['Internship/ Full time',\n",
       " 'Campus',\n",
       " 'Gender',\n",
       " 'Time Taken',\n",
       " 'Assessment Shortlisted',\n",
       " 'GD Shortlisted',\n",
       " 'PI Shortlisted / Offered']"
      ]
     },
     "execution_count": 7,
     "metadata": {},
     "output_type": "execute_result"
    }
   ],
   "source": [
    "categorical_features=[feature for feature in dataset.columns if dataset[feature].dtypes=='O']\n",
    "categorical_features"
   ]
  },
  {
   "cell_type": "markdown",
   "metadata": {},
   "source": [
    "### Converting categorical variables in numerical variables for further anaysis"
   ]
  },
  {
   "cell_type": "code",
   "execution_count": 8,
   "metadata": {},
   "outputs": [],
   "source": [
    "dataset['Assessment Shortlisted']=pd.get_dummies(dataset['Assessment Shortlisted'],drop_first=True)"
   ]
  },
  {
   "cell_type": "code",
   "execution_count": 9,
   "metadata": {},
   "outputs": [],
   "source": [
    "dataset['GD Shortlisted']=pd.get_dummies(dataset['GD Shortlisted'],drop_first=True)"
   ]
  },
  {
   "cell_type": "code",
   "execution_count": 10,
   "metadata": {},
   "outputs": [],
   "source": [
    "dataset['PI Shortlisted / Offered']=pd.get_dummies(dataset['PI Shortlisted / Offered'],drop_first=True)"
   ]
  },
  {
   "cell_type": "code",
   "execution_count": 11,
   "metadata": {},
   "outputs": [
    {
     "data": {
      "text/html": [
       "<div>\n",
       "<style scoped>\n",
       "    .dataframe tbody tr th:only-of-type {\n",
       "        vertical-align: middle;\n",
       "    }\n",
       "\n",
       "    .dataframe tbody tr th {\n",
       "        vertical-align: top;\n",
       "    }\n",
       "\n",
       "    .dataframe thead th {\n",
       "        text-align: right;\n",
       "    }\n",
       "</style>\n",
       "<table border=\"1\" class=\"dataframe\">\n",
       "  <thead>\n",
       "    <tr style=\"text-align: right;\">\n",
       "      <th></th>\n",
       "      <th>Candidate ID</th>\n",
       "      <th>Internship/ Full time</th>\n",
       "      <th>Campus</th>\n",
       "      <th>Gender</th>\n",
       "      <th>Time Taken</th>\n",
       "      <th>Assessment 1</th>\n",
       "      <th>Assessment 2</th>\n",
       "      <th>Assessment 3</th>\n",
       "      <th>Assessment 4</th>\n",
       "      <th>Total Score</th>\n",
       "      <th>Assessment Shortlisted</th>\n",
       "      <th>GD Shortlisted</th>\n",
       "      <th>PI Shortlisted / Offered</th>\n",
       "    </tr>\n",
       "  </thead>\n",
       "  <tbody>\n",
       "    <tr>\n",
       "      <th>0</th>\n",
       "      <td>13365775</td>\n",
       "      <td>Intern</td>\n",
       "      <td>C1</td>\n",
       "      <td>Male</td>\n",
       "      <td>00:29:58</td>\n",
       "      <td>6</td>\n",
       "      <td>7</td>\n",
       "      <td>8</td>\n",
       "      <td>9</td>\n",
       "      <td>9.0</td>\n",
       "      <td>0</td>\n",
       "      <td>0</td>\n",
       "      <td>0</td>\n",
       "    </tr>\n",
       "    <tr>\n",
       "      <th>1</th>\n",
       "      <td>13365840</td>\n",
       "      <td>Intern</td>\n",
       "      <td>C1</td>\n",
       "      <td>Male</td>\n",
       "      <td>00:29:56</td>\n",
       "      <td>8</td>\n",
       "      <td>9</td>\n",
       "      <td>7</td>\n",
       "      <td>8</td>\n",
       "      <td>9.0</td>\n",
       "      <td>0</td>\n",
       "      <td>0</td>\n",
       "      <td>0</td>\n",
       "    </tr>\n",
       "    <tr>\n",
       "      <th>2</th>\n",
       "      <td>13365846</td>\n",
       "      <td>Intern</td>\n",
       "      <td>C1</td>\n",
       "      <td>Male</td>\n",
       "      <td>00:28:02</td>\n",
       "      <td>9</td>\n",
       "      <td>9</td>\n",
       "      <td>7</td>\n",
       "      <td>9</td>\n",
       "      <td>9.0</td>\n",
       "      <td>0</td>\n",
       "      <td>0</td>\n",
       "      <td>0</td>\n",
       "    </tr>\n",
       "    <tr>\n",
       "      <th>3</th>\n",
       "      <td>13365865</td>\n",
       "      <td>Intern</td>\n",
       "      <td>C1</td>\n",
       "      <td>Male</td>\n",
       "      <td>00:29:56</td>\n",
       "      <td>8</td>\n",
       "      <td>6</td>\n",
       "      <td>9</td>\n",
       "      <td>9</td>\n",
       "      <td>9.0</td>\n",
       "      <td>0</td>\n",
       "      <td>0</td>\n",
       "      <td>0</td>\n",
       "    </tr>\n",
       "    <tr>\n",
       "      <th>4</th>\n",
       "      <td>13365999</td>\n",
       "      <td>Intern</td>\n",
       "      <td>C1</td>\n",
       "      <td>Male</td>\n",
       "      <td>00:29:56</td>\n",
       "      <td>7</td>\n",
       "      <td>9</td>\n",
       "      <td>7</td>\n",
       "      <td>9</td>\n",
       "      <td>9.0</td>\n",
       "      <td>0</td>\n",
       "      <td>0</td>\n",
       "      <td>0</td>\n",
       "    </tr>\n",
       "  </tbody>\n",
       "</table>\n",
       "</div>"
      ],
      "text/plain": [
       "   Candidate ID Internship/ Full time Campus Gender Time Taken  Assessment 1  \\\n",
       "0      13365775                Intern     C1   Male   00:29:58             6   \n",
       "1      13365840                Intern     C1   Male   00:29:56             8   \n",
       "2      13365846                Intern     C1   Male   00:28:02             9   \n",
       "3      13365865                Intern     C1   Male   00:29:56             8   \n",
       "4      13365999                Intern     C1   Male   00:29:56             7   \n",
       "\n",
       "   Assessment 2  Assessment 3  Assessment 4  Total Score  \\\n",
       "0             7             8             9          9.0   \n",
       "1             9             7             8          9.0   \n",
       "2             9             7             9          9.0   \n",
       "3             6             9             9          9.0   \n",
       "4             9             7             9          9.0   \n",
       "\n",
       "   Assessment Shortlisted  GD Shortlisted  PI Shortlisted / Offered  \n",
       "0                       0               0                         0  \n",
       "1                       0               0                         0  \n",
       "2                       0               0                         0  \n",
       "3                       0               0                         0  \n",
       "4                       0               0                         0  "
      ]
     },
     "execution_count": 11,
     "metadata": {},
     "output_type": "execute_result"
    }
   ],
   "source": [
    "dataset.head()"
   ]
  },
  {
   "cell_type": "markdown",
   "metadata": {},
   "source": [
    "## Representation of relations in columns"
   ]
  },
  {
   "cell_type": "code",
   "execution_count": 27,
   "metadata": {},
   "outputs": [
    {
     "data": {
      "image/png": "[encoded data removed]",
      "text/plain": [
       "<Figure size 432x288 with 1 Axes>"
      ]
     },
     "metadata": {
      "needs_background": "light"
     },
     "output_type": "display_data"
    }
   ],
   "source": [
    "def bar_chart(feature):\n",
    "    Pass=dataset[dataset['PI Shortlisted / Offered']==1][feature].value_counts()\n",
    "    Fail=dataset[dataset['PI Shortlisted / Offered']==0][feature].value_counts()\n",
    "    df=pd.DataFrame([Pass,Fail])\n",
    "    df.index = ['Pass','Fail']\n",
    "    ax = df.plot(kind='bar')\n",
    "    for p in ax.patches:\n",
    "        ax.annotate(str(p.get_height()), (p.get_x() * 1.005, p.get_height() * 1.005))\n",
    "        ax.plot(figsize=(10,10))\n",
    "bar_chart('Gender')"
   ]
  },
  {
   "cell_type": "markdown",
   "metadata": {},
   "source": [
    "43 Male and 8 Female got selected"
   ]
  },
  {
   "cell_type": "code",
   "execution_count": 13,
   "metadata": {},
   "outputs": [
    {
     "data": {
      "image/png": "[encoded data removed]",
      "text/plain": [
       "<Figure size 432x288 with 1 Axes>"
      ]
     },
     "metadata": {
      "needs_background": "light"
     },
     "output_type": "display_data"
    }
   ],
   "source": [
    "bar_chart('Campus')"
   ]
  },
  {
   "cell_type": "code",
   "execution_count": 14,
   "metadata": {},
   "outputs": [
    {
     "data": {
      "image/png": "[encoded data removed]",
      "text/plain": [
       "<Figure size 432x288 with 1 Axes>"
      ]
     },
     "metadata": {
      "needs_background": "light"
     },
     "output_type": "display_data"
    }
   ],
   "source": [
    "bar_chart('Internship/ Full time')"
   ]
  },
  {
   "cell_type": "code",
   "execution_count": 24,
   "metadata": {},
   "outputs": [],
   "source": [
    "for i in dataset['Time Taken']:\n",
    "    for j in dataset['PI Shortlisted / Offered']:\n",
    "        if (i==\"00:00:00\" and j==1):\n",
    "            print(\"Its not valid\")"
   ]
  },
  {
   "cell_type": "code",
   "execution_count": 22,
   "metadata": {},
   "outputs": [
    {
     "data": {
      "text/html": [
       "<div>\n",
       "<style scoped>\n",
       "    .dataframe tbody tr th:only-of-type {\n",
       "        vertical-align: middle;\n",
       "    }\n",
       "\n",
       "    .dataframe tbody tr th {\n",
       "        vertical-align: top;\n",
       "    }\n",
       "\n",
       "    .dataframe thead th {\n",
       "        text-align: right;\n",
       "    }\n",
       "</style>\n",
       "<table border=\"1\" class=\"dataframe\">\n",
       "  <thead>\n",
       "    <tr style=\"text-align: right;\">\n",
       "      <th></th>\n",
       "      <th>Candidate ID</th>\n",
       "      <th>Internship/ Full time</th>\n",
       "      <th>Campus</th>\n",
       "      <th>Gender</th>\n",
       "      <th>Time Taken</th>\n",
       "      <th>Assessment 1</th>\n",
       "      <th>Assessment 2</th>\n",
       "      <th>Assessment 3</th>\n",
       "      <th>Assessment 4</th>\n",
       "      <th>Total Score</th>\n",
       "      <th>Assessment Shortlisted</th>\n",
       "      <th>GD Shortlisted</th>\n",
       "      <th>PI Shortlisted / Offered</th>\n",
       "    </tr>\n",
       "  </thead>\n",
       "  <tbody>\n",
       "    <tr>\n",
       "      <th>0</th>\n",
       "      <td>13365775</td>\n",
       "      <td>Intern</td>\n",
       "      <td>C1</td>\n",
       "      <td>Male</td>\n",
       "      <td>00:29:58</td>\n",
       "      <td>6</td>\n",
       "      <td>7</td>\n",
       "      <td>8</td>\n",
       "      <td>9</td>\n",
       "      <td>9.0</td>\n",
       "      <td>0</td>\n",
       "      <td>0</td>\n",
       "      <td>0</td>\n",
       "    </tr>\n",
       "    <tr>\n",
       "      <th>1</th>\n",
       "      <td>13365840</td>\n",
       "      <td>Intern</td>\n",
       "      <td>C1</td>\n",
       "      <td>Male</td>\n",
       "      <td>00:29:56</td>\n",
       "      <td>8</td>\n",
       "      <td>9</td>\n",
       "      <td>7</td>\n",
       "      <td>8</td>\n",
       "      <td>9.0</td>\n",
       "      <td>0</td>\n",
       "      <td>0</td>\n",
       "      <td>0</td>\n",
       "    </tr>\n",
       "    <tr>\n",
       "      <th>2</th>\n",
       "      <td>13365846</td>\n",
       "      <td>Intern</td>\n",
       "      <td>C1</td>\n",
       "      <td>Male</td>\n",
       "      <td>00:28:02</td>\n",
       "      <td>9</td>\n",
       "      <td>9</td>\n",
       "      <td>7</td>\n",
       "      <td>9</td>\n",
       "      <td>9.0</td>\n",
       "      <td>0</td>\n",
       "      <td>0</td>\n",
       "      <td>0</td>\n",
       "    </tr>\n",
       "    <tr>\n",
       "      <th>3</th>\n",
       "      <td>13365865</td>\n",
       "      <td>Intern</td>\n",
       "      <td>C1</td>\n",
       "      <td>Male</td>\n",
       "      <td>00:29:56</td>\n",
       "      <td>8</td>\n",
       "      <td>6</td>\n",
       "      <td>9</td>\n",
       "      <td>9</td>\n",
       "      <td>9.0</td>\n",
       "      <td>0</td>\n",
       "      <td>0</td>\n",
       "      <td>0</td>\n",
       "    </tr>\n",
       "    <tr>\n",
       "      <th>4</th>\n",
       "      <td>13365999</td>\n",
       "      <td>Intern</td>\n",
       "      <td>C1</td>\n",
       "      <td>Male</td>\n",
       "      <td>00:29:56</td>\n",
       "      <td>7</td>\n",
       "      <td>9</td>\n",
       "      <td>7</td>\n",
       "      <td>9</td>\n",
       "      <td>9.0</td>\n",
       "      <td>0</td>\n",
       "      <td>0</td>\n",
       "      <td>0</td>\n",
       "    </tr>\n",
       "  </tbody>\n",
       "</table>\n",
       "</div>"
      ],
      "text/plain": [
       "   Candidate ID Internship/ Full time Campus Gender Time Taken  Assessment 1  \\\n",
       "0      13365775                Intern     C1   Male   00:29:58             6   \n",
       "1      13365840                Intern     C1   Male   00:29:56             8   \n",
       "2      13365846                Intern     C1   Male   00:28:02             9   \n",
       "3      13365865                Intern     C1   Male   00:29:56             8   \n",
       "4      13365999                Intern     C1   Male   00:29:56             7   \n",
       "\n",
       "   Assessment 2  Assessment 3  Assessment 4  Total Score  \\\n",
       "0             7             8             9          9.0   \n",
       "1             9             7             8          9.0   \n",
       "2             9             7             9          9.0   \n",
       "3             6             9             9          9.0   \n",
       "4             9             7             9          9.0   \n",
       "\n",
       "   Assessment Shortlisted  GD Shortlisted  PI Shortlisted / Offered  \n",
       "0                       0               0                         0  \n",
       "1                       0               0                         0  \n",
       "2                       0               0                         0  \n",
       "3                       0               0                         0  \n",
       "4                       0               0                         0  "
      ]
     },
     "execution_count": 22,
     "metadata": {},
     "output_type": "execute_result"
    }
   ],
   "source": [
    "dataset.head()"
   ]
  },
  {
   "cell_type": "code",
   "execution_count": 40,
   "metadata": {},
   "outputs": [
    {
     "data": {
      "image/png": "[encoded data removed]",
      "text/plain": [
       "<Figure size 432x288 with 1 Axes>"
      ]
     },
     "metadata": {
      "needs_background": "light"
     },
     "output_type": "display_data"
    }
   ],
   "source": [
    "def bar_chart2(feature):\n",
    "    Pass=dataset[dataset['Assessment Shortlisted']==1][feature].value_counts()\n",
    "    Fail=dataset[dataset['Assessment Shortlisted']==0][feature].value_counts()\n",
    "    df=pd.DataFrame([Pass,Fail])\n",
    "    df.index = ['Pass','Fail']\n",
    "    ax = df.plot(kind='bar')\n",
    "bar_chart2(\"Total Score\")"
   ]
  },
  {
   "cell_type": "code",
   "execution_count": null,
   "metadata": {},
   "outputs": [],
   "source": []
  },
  {
   "cell_type": "code",
   "execution_count": null,
   "metadata": {},
   "outputs": [],
   "source": []
  }
 ],
 "metadata": {
  "kernelspec": {
   "display_name": "Python 3",
   "language": "python",
   "name": "python3"
  },
  "language_info": {
   "codemirror_mode": {
    "name": "ipython",
    "version": 3
   },
   "file_extension": ".py",
   "mimetype": "text/x-python",
   "name": "python",
   "nbconvert_exporter": "python",
   "pygments_lexer": "ipython3",
   "version": "3.7.7"
  }
 },
 "nbformat": 4,
 "nbformat_minor": 4
}
